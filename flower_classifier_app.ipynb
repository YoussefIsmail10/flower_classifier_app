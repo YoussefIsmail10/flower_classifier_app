{
 "cells": [
  {
   "cell_type": "code",
   "execution_count": 1,
   "id": "cb2619a9",
   "metadata": {},
   "outputs": [],
   "source": [
    "import os\n",
    "import numpy as np\n",
    "import tensorflow as tf\n",
    "from tensorflow.keras.preprocessing.image import ImageDataGenerator"
   ]
  },
  {
   "cell_type": "markdown",
   "id": "eba15db9",
   "metadata": {},
   "source": [
    "# Define paths to your dataset folders"
   ]
  },
  {
   "cell_type": "code",
   "execution_count": 5,
   "id": "04e20cdb",
   "metadata": {},
   "outputs": [],
   "source": [
    "data_dir = \"C:/Users/Youssef/Desktop/flowers\"\n",
    "flower_classes = [\"daisy\", \"dandelion\", \"rose\", \"sunflower\", \"tulip\"]"
   ]
  },
  {
   "cell_type": "markdown",
   "id": "846f7fff",
   "metadata": {},
   "source": [
    "# Set hyperparameters"
   ]
  },
  {
   "cell_type": "code",
   "execution_count": 6,
   "id": "acc4ca0d",
   "metadata": {},
   "outputs": [],
   "source": [
    "batch_size = 32\n",
    "epochs = 10"
   ]
  },
  {
   "cell_type": "markdown",
   "id": "e7f92592",
   "metadata": {},
   "source": [
    "# Data preprocessing"
   ]
  },
  {
   "cell_type": "code",
   "execution_count": 7,
   "id": "03aa3f01",
   "metadata": {},
   "outputs": [
    {
     "name": "stdout",
     "output_type": "stream",
     "text": [
      "Found 3457 images belonging to 5 classes.\n",
      "Found 860 images belonging to 5 classes.\n"
     ]
    }
   ],
   "source": [
    "datagen = ImageDataGenerator(\n",
    "    rescale=1.0/255,\n",
    "    validation_split=0.2\n",
    ")\n",
    "\n",
    "train_generator = datagen.flow_from_directory(\n",
    "    data_dir,\n",
    "    target_size=(224, 224), \n",
    "    batch_size=batch_size,\n",
    "    class_mode='categorical',\n",
    "    subset='training'\n",
    ")\n",
    "\n",
    "valid_generator = datagen.flow_from_directory(\n",
    "    data_dir,\n",
    "    target_size=(224, 224),\n",
    "    batch_size=batch_size,\n",
    "    class_mode='categorical',\n",
    "    subset='validation'\n",
    ")"
   ]
  },
  {
   "cell_type": "markdown",
   "id": "e3988073",
   "metadata": {},
   "source": [
    "# Build the model"
   ]
  },
  {
   "cell_type": "code",
   "execution_count": 8,
   "id": "24cd0251",
   "metadata": {},
   "outputs": [],
   "source": [
    "model = tf.keras.Sequential([\n",
    "    tf.keras.layers.Conv2D(32, (3, 3), activation='relu', input_shape=(224, 224, 3)),\n",
    "    tf.keras.layers.MaxPooling2D(2, 2),\n",
    "    tf.keras.layers.Flatten(),\n",
    "    tf.keras.layers.Dense(128, activation='relu'),\n",
    "    tf.keras.layers.Dense(len(flower_classes), activation='softmax')\n",
    "])"
   ]
  },
  {
   "cell_type": "markdown",
   "id": "5ba262b9",
   "metadata": {},
   "source": [
    "# Compile the model"
   ]
  },
  {
   "cell_type": "code",
   "execution_count": 9,
   "id": "9918ff39",
   "metadata": {},
   "outputs": [],
   "source": [
    "model.compile(optimizer='adam',\n",
    "              loss='categorical_crossentropy',\n",
    "              metrics=['accuracy'])\n"
   ]
  },
  {
   "cell_type": "markdown",
   "id": "3fb49bcb",
   "metadata": {},
   "source": [
    "# Train the model"
   ]
  },
  {
   "cell_type": "code",
   "execution_count": 10,
   "id": "a081d759",
   "metadata": {},
   "outputs": [
    {
     "name": "stdout",
     "output_type": "stream",
     "text": [
      "Epoch 1/10\n",
      "109/109 [==============================] - 110s 999ms/step - loss: 3.7731 - accuracy: 0.4105 - val_loss: 1.2767 - val_accuracy: 0.4733\n",
      "Epoch 2/10\n",
      "109/109 [==============================] - 100s 916ms/step - loss: 1.0942 - accuracy: 0.5762 - val_loss: 1.1672 - val_accuracy: 0.5372\n",
      "Epoch 3/10\n",
      "109/109 [==============================] - 105s 960ms/step - loss: 0.8276 - accuracy: 0.7165 - val_loss: 1.3832 - val_accuracy: 0.4965\n",
      "Epoch 4/10\n",
      "109/109 [==============================] - 104s 956ms/step - loss: 0.5754 - accuracy: 0.8178 - val_loss: 1.0768 - val_accuracy: 0.5686\n",
      "Epoch 5/10\n",
      "109/109 [==============================] - 105s 966ms/step - loss: 0.3369 - accuracy: 0.9112 - val_loss: 1.3404 - val_accuracy: 0.5395\n",
      "Epoch 6/10\n",
      "109/109 [==============================] - 106s 976ms/step - loss: 0.1772 - accuracy: 0.9618 - val_loss: 1.2422 - val_accuracy: 0.5977\n",
      "Epoch 7/10\n",
      "109/109 [==============================] - 109s 995ms/step - loss: 0.1108 - accuracy: 0.9783 - val_loss: 1.5423 - val_accuracy: 0.5407\n",
      "Epoch 8/10\n",
      "109/109 [==============================] - 120s 1s/step - loss: 0.0609 - accuracy: 0.9933 - val_loss: 1.5782 - val_accuracy: 0.5767\n",
      "Epoch 9/10\n",
      "109/109 [==============================] - 110s 1s/step - loss: 0.0345 - accuracy: 0.9960 - val_loss: 1.5143 - val_accuracy: 0.5977\n",
      "Epoch 10/10\n",
      "109/109 [==============================] - 110s 1s/step - loss: 0.0260 - accuracy: 0.9974 - val_loss: 1.7064 - val_accuracy: 0.5814\n"
     ]
    }
   ],
   "source": [
    "history = model.fit(train_generator,\n",
    "                    epochs=epochs,\n",
    "                    validation_data=valid_generator)"
   ]
  },
  {
   "cell_type": "markdown",
   "id": "d5606336",
   "metadata": {},
   "source": [
    "# Save the model"
   ]
  },
  {
   "cell_type": "code",
   "execution_count": 11,
   "id": "3105621b",
   "metadata": {},
   "outputs": [
    {
     "name": "stderr",
     "output_type": "stream",
     "text": [
      "C:\\Users\\Youssef\\Anaconda3\\lib\\site-packages\\keras\\src\\engine\\training.py:3000: UserWarning: You are saving your model as an HDF5 file via `model.save()`. This file format is considered legacy. We recommend using instead the native Keras format, e.g. `model.save('my_model.keras')`.\n",
      "  saving_api.save_model(\n"
     ]
    }
   ],
   "source": [
    "model.save('C:/Users/Youssef/Desktop/flower_classification_model.h5')"
   ]
  },
  {
   "cell_type": "code",
   "execution_count": null,
   "id": "889e7ddc",
   "metadata": {},
   "outputs": [],
   "source": []
  }
 ],
 "metadata": {
  "kernelspec": {
   "display_name": "Python 3 (ipykernel)",
   "language": "python",
   "name": "python3"
  },
  "language_info": {
   "codemirror_mode": {
    "name": "ipython",
    "version": 3
   },
   "file_extension": ".py",
   "mimetype": "text/x-python",
   "name": "python",
   "nbconvert_exporter": "python",
   "pygments_lexer": "ipython3",
   "version": "3.9.13"
  }
 },
 "nbformat": 4,
 "nbformat_minor": 5
}
